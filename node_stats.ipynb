{
 "cells": [
  {
   "cell_type": "code",
   "execution_count": null,
   "metadata": {},
   "outputs": [],
   "source": [
    "import paramiko\n",
    "import sys, time, os, shutil, os.path\n",
    "from scp import SCPClient\n",
    "from datetime import datetime\n",
    "\n",
    "#variables\n",
    "machine_attributes = [list of machine attributes]\n",
    "timestart = time.ctime()\n",
    "current_date = str(datetime.now().date())\n",
    "ssh = paramiko.SSHClient()\n",
    "\n",
    "print('Process started at ' + timestart)\n",
    "\n",
    "#SSH into an x-box, make sure Putty Pageant is on!\n",
    "def grab_info():\n",
    "\ttry:\n",
    "\t\tssh.set_missing_host_key_policy(paramiko.AutoAddPolicy())\n",
    "\n",
    "\t\tssh.connect('hostname', username = '<username>', key_filename = '<keyname>')\n",
    "\n",
    "\t\t#loop for state, purpose, chassis, memory, cpu, and creation date.\n",
    "\t\tfor item in machine_attributes:\n",
    "\t\t\tscp = SCPClient(ssh.get_transport())\n",
    "\t\t\tssh.exec_command('bash command here')\n",
    "\t\t\ttime.sleep(10.0) #execute an MCP tool command. a time delay needs to be set up or else the file will be incomplete.\n",
    "\t\t\tgetloc = str('<file location>')\n",
    "\t\t\t#set up SFTP for transfer\n",
    "\t\t\tscp.get(getloc, '<desktop parking spot>')\n",
    "\t\t\tnewloc = str('<desktop parking spot>')\n",
    "\t\t\tdestination = str('<where you want it to go>')\n",
    "\t\t\tshutil.copy(newloc, destination)\n",
    "\n",
    "\t\t#if everything breaks, paste old code back here\n",
    "\n",
    "\t\t#don't forget to close!\n",
    "\t\tssh.close()\n",
    "\texcept Exceptions as e:\n",
    "\t\tprint(e)\n",
    "\t\t\n",
    "grab_info()\n",
    "\n",
    "timeend = time.ctime()\n",
    "print(\"Process finished at \" + timeend)"
   ]
  }
 ],
 "metadata": {
  "kernelspec": {
   "display_name": "Python 3",
   "language": "python",
   "name": "python3"
  },
  "language_info": {
   "codemirror_mode": {
    "name": "ipython",
    "version": 3
   },
   "file_extension": ".py",
   "mimetype": "text/x-python",
   "name": "python",
   "nbconvert_exporter": "python",
   "pygments_lexer": "ipython3",
   "version": "3.6.5"
  }
 },
 "nbformat": 4,
 "nbformat_minor": 4
}
